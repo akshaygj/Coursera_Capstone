{
    "nbformat_minor": 1, 
    "cells": [
        {
            "source": "# Bangalore City - A Perfect Area to Live", 
            "cell_type": "markdown", 
            "metadata": {
                "collapsed": true
            }
        }, 
        {
            "source": "## Data\n\n1. A JSON File **BBMP.GeoJSON** which contains the list of different areas in the city - Bangalore and its Geoloaction,population,etc..,\n\n##### File Contais  JSON objects with,\n- Name of the area\n- its lattitude & longitude\n- population\n\n2. A **Foursquare API** to get the details of venues of different Categories in the give geoloaction and radius limit.\n\n#### This API used to find out different categories of venues like,\n- Schools\n- Resturants\n- Parks\n- Cafes\n- Hospitals\n- Public Transport\n- Temples\n- Grocerry\n- Shops etc.., ", 
            "cell_type": "markdown", 
            "metadata": {}
        }
    ], 
    "metadata": {
        "kernelspec": {
            "display_name": "Python 3.6", 
            "name": "python3", 
            "language": "python"
        }, 
        "language_info": {
            "mimetype": "text/x-python", 
            "nbconvert_exporter": "python", 
            "version": "3.6.8", 
            "name": "python", 
            "file_extension": ".py", 
            "pygments_lexer": "ipython3", 
            "codemirror_mode": {
                "version": 3, 
                "name": "ipython"
            }
        }
    }, 
    "nbformat": 4
}