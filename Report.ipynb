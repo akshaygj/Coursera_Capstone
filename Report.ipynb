{
    "nbformat_minor": 1, 
    "cells": [
        {
            "source": "# Bangalore City - A Perfect Area to Live", 
            "cell_type": "markdown", 
            "metadata": {}
        }, 
        {
            "source": "### Introduction", 
            "cell_type": "markdown", 
            "metadata": {
                "collapsed": true
            }
        }, 
        {
            "source": "   **Bengaluru** (Bangalore) known as the **IT & Start-up Capital of India** is located in the state of **Karnataka**. This is in the southern part of India.\n    \n   Everyone of us to dream to live in a prefect city with all the __necessities__ and **luxury** available. So, **Bangalore** is one among those cities in India where people dream to live.\n   But most of the people doesn't know much about Bangalore and its Geography, and find a problem in finding a suitable area to live which has the minimum basic necessities within a specified radius limit.", 
            "cell_type": "markdown", 
            "metadata": {}
        }, 
        {
            "source": "### Business problem", 
            "cell_type": "markdown", 
            "metadata": {}
        }, 
        {
            "source": "Bangalore has a population of more than 1.25 Crore, and suffers a lot of traffic issues.\n\nAnd living here is dream and a challenge too.So its challenging job to find a area to which u will fit into.\n\nThe main problem is that most of the people doesn't know much about Bangalore and find a problem in finding a suitable area to live which has the minimum basic necessities like Schools,Resturants,Cafes,Hospitals,Public Transport,Temples,Grocerry,Shops etc.., nearby.\n\nSo, there needs a model which provides a list of locations that has all the above mentioned necessities.", 
            "cell_type": "markdown", 
            "metadata": {}
        }, 
        {
            "source": "### Solution", 
            "cell_type": "markdown", 
            "metadata": {}
        }, 
        {
            "source": "So the solution to the above problems is to use the geoloaction of different areas and find out an area with all the necessities mentioned above.\n\nAnd I hereby using the Data Science concept list out those ares that satisfy the predefined necessesities I mentioned above.", 
            "cell_type": "markdown", 
            "metadata": {}
        }, 
        {
            "source": "### Target Audience", 
            "cell_type": "markdown", 
            "metadata": {}
        }, 
        {
            "source": "The people with a dream to live in a IT & Statup Capital of India - Bangalore.\nAnd who are in confused state of finding a good location in Banagalore that satisfies there basic recquirements.\n\nAs this would help them to find a better place of their choice in less time.", 
            "cell_type": "markdown", 
            "metadata": {}
        }, 
        {
            "source": "## Data\n\n1. A JSON File **BBMP.GeoJSON** which contains the list of different areas in the city - Bangalore and its Geoloaction,population,etc..,\n\n##### File Contais  JSON objects with,\n- Name of the area\n- its lattitude & longitude\n- population\n\n2. A **Foursquare API** to get the details of venues of different Categories in the give geoloaction and radius limit.\n\n#### This API used to find out different categories of venues like,\n- Schools\n- Resturants\n- Parks\n- Cafes\n- Hospitals\n- Public Transport\n- Temples\n- Grocerry\n- Shops etc.., ", 
            "cell_type": "markdown", 
            "metadata": {}
        }, 
        {
            "source": "## Methodology ", 
            "cell_type": "markdown", 
            "metadata": {}
        }, 
        {
            "source": "- The main component of the data is the different geolocation of the bangalore city.\n- The Lattitude & Longitude of the geolocation were taken\n- Foursquare API Used to get all the categories of venues in a given location within 3 KM of radius\n- Then a analysis is made to study the area\n- Calculated the net Score of the area for having the recquirements\n- Clusttered the areas on the basis of their score\n- Data Visualisation - Box Plot\n- Data Visualisation -  Map", 
            "cell_type": "markdown", 
            "metadata": {}
        }, 
        {
            "source": "## Results", 
            "cell_type": "markdown", 
            "metadata": {}
        }, 
        {
            "source": "- All the areas net score was calculated\n- It is visualised using the Box Plot & Map\n- Different location were mapped depending upon the score\n- Different Score had different colours, like\n    >RED --> Good\n\n    >BLUE --> Average\n\n    >GREEN --> Poor", 
            "cell_type": "markdown", 
            "metadata": {}
        }, 
        {
            "source": "## Conclusion", 
            "cell_type": "markdown", 
            "metadata": {}
        }, 
        {
            "source": "Many Areas had their own features leading to different Scores\n\nMost of the areas had a average score and few had a good score\n\nSo, An individual can select the area of interest on the net score. Selecting a red coloured area on the map enables him a better living by providing all the recquirements in the radius of 3 KM.", 
            "cell_type": "markdown", 
            "metadata": {}
        }
    ], 
    "metadata": {
        "kernelspec": {
            "display_name": "Python 3.6", 
            "name": "python3", 
            "language": "python"
        }, 
        "language_info": {
            "mimetype": "text/x-python", 
            "nbconvert_exporter": "python", 
            "version": "3.6.8", 
            "name": "python", 
            "file_extension": ".py", 
            "pygments_lexer": "ipython3", 
            "codemirror_mode": {
                "version": 3, 
                "name": "ipython"
            }
        }
    }, 
    "nbformat": 4
}